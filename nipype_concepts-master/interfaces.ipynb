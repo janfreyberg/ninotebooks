{
 "cells": [
  {
   "cell_type": "markdown",
   "metadata": {
    "deletable": true,
    "editable": true
   },
   "source": [
    "# Nipype Concepts: Interfaces"
   ]
  },
  {
   "cell_type": "markdown",
   "metadata": {
    "deletable": true,
    "editable": true
   },
   "source": [
    "![](http://nipype.readthedocs.io/en/latest/_static/nipype-banner-bg.png)"
   ]
  },
  {
   "cell_type": "markdown",
   "metadata": {
    "deletable": true,
    "editable": true
   },
   "source": [
    "The goal of this notebook is to introduce and illustrate the basic concepts underlying Interfaces. Interfaces provide a unified Pythonic representation of modular analysis routines from various packages (e.g. FSL, SPM, Freesurfer, etc.). Interfaces know what sort of options an external program has and how to execute it. "
   ]
  },
  {
   "cell_type": "code",
   "execution_count": 1,
   "metadata": {
    "collapsed": false,
    "deletable": true,
    "editable": true
   },
   "outputs": [],
   "source": [
    "%matplotlib inline\n",
    "from __future__ import print_function\n",
    "import numpy as np\n",
    "import matplotlib.pyplot as plt\n",
    "import nibabel as nib\n",
    "import time\n",
    "from IPython import display"
   ]
  },
  {
   "cell_type": "markdown",
   "metadata": {
    "deletable": true,
    "editable": true
   },
   "source": [
    "#### Example: FSL BET"
   ]
  },
  {
   "cell_type": "markdown",
   "metadata": {
    "deletable": true,
    "editable": true
   },
   "source": [
    "FSL's BET (or Brain Extraction Tool) rapidly skull-strips an image and optionally can save a binary brain mask file.\n",
    "\n",
    "Let's take a look at our T1 image. First, let's define a quick helper function so we can see what our processing is doing."
   ]
  },
  {
   "cell_type": "code",
   "execution_count": 2,
   "metadata": {
    "collapsed": true,
    "deletable": true,
    "editable": true
   },
   "outputs": [],
   "source": [
    "def plot_slice(fname, z_idx=5):\n",
    "\n",
    "    # Load the image and collect the data\n",
    "    # and orientation information\n",
    "    img = nib.load(fname)\n",
    "    data = img.get_data()\n",
    "    aff = img.affine\n",
    "\n",
    "    # Find the center of the brain matrix\n",
    "    ctr = np.dot(np.linalg.inv(aff), [0, 0, 0, 1])[:3]\n",
    "\n",
    "    # Plot the data\n",
    "    vmin, vmax = (0, 1) if data.dtype == np.int16 else (30, 150)\n",
    "    plt.imshow(np.rot90(data[:, :, ctr[2] + z_idx]), \n",
    "               cmap=\"gray\", vmin=vmin, vmax=vmax)\n",
    "    plt.gca().set_axis_off()"
   ]
  },
  {
   "cell_type": "code",
   "execution_count": 3,
   "metadata": {
    "collapsed": false,
    "deletable": true,
    "editable": true
   },
   "outputs": [
    {
     "data": {
      "image/png": "[encoded data removed]",
      "text/plain": [
       "<matplotlib.figure.Figure at 0x10447b668>"
      ]
     },
     "metadata": {},
     "output_type": "display_data"
    },
    {
     "data": {
      "image/png": "[encoded data removed]",
      "text/plain": [
       "<matplotlib.figure.Figure at 0x10447b668>"
      ]
     },
     "metadata": {},
     "output_type": "display_data"
    }
   ],
   "source": [
    "for z in range(45):\n",
    "    display.clear_output(wait=True)\n",
    "    plot_slice(\"data/T1.nii.gz\", z_idx=z)\n",
    "    display.display(plt.gcf())\n",
    "    time.sleep(0.1)"
   ]
  },
  {
   "cell_type": "markdown",
   "metadata": {
    "deletable": true,
    "editable": true
   },
   "source": [
    "In its simplest form, just pass BET an input image and tell it what to name the output."
   ]
  },
  {
   "cell_type": "code",
   "execution_count": 4,
   "metadata": {
    "collapsed": false,
    "deletable": true,
    "editable": true
   },
   "outputs": [],
   "source": [
    "!bet data/T1.nii.gz data/T1_bet.nii.gz"
   ]
  },
  {
   "cell_type": "markdown",
   "metadata": {
    "deletable": true,
    "editable": true
   },
   "source": [
    "Note that, in IPython, prepending a line with a bang (``!``) will make a shell call. This is a trick that is specific to IPython, although there are a variety of ways to execute system calls in Python that are slightly more verbose.\n",
    "\n",
    "Let's take a look at the results:"
   ]
  },
  {
   "cell_type": "code",
   "execution_count": 7,
   "metadata": {
    "collapsed": false,
    "deletable": true,
    "editable": true
   },
   "outputs": [
    {
     "data": {
      "image/png": "[encoded data removed]",
      "text/plain": [
       "<matplotlib.figure.Figure at 0x10bda5d68>"
      ]
     },
     "metadata": {},
     "output_type": "display_data"
    }
   ],
   "source": [
    "for z in range(45):\n",
    "    plot_slice(\"data/T1_bet.nii.gz\", z_idx=z)\n",
    "    display.display(plt.gcf())\n",
    "    display.clear_output(wait=True)\n",
    "    time.sleep(0.1)\n",
    "display.clear_output()"
   ]
  },
  {
   "cell_type": "markdown",
   "metadata": {
    "deletable": true,
    "editable": true
   },
   "source": [
    "What else can BET do? It's actually a fairly complicated program. As is the case for all FSL binaries, just call it with no arguments to see its options."
   ]
  },
  {
   "cell_type": "code",
   "execution_count": 6,
   "metadata": {
    "collapsed": false,
    "deletable": true,
    "editable": true
   },
   "outputs": [
    {
     "name": "stdout",
     "output_type": "stream",
     "text": [
      "\r\n",
      "Usage:    bet <input> <output> [options]\r\n",
      "\r\n",
      "Main bet2 options:\r\n",
      "  -o          generate brain surface outline overlaid onto original image\r\n",
      "  -m          generate binary brain mask\r\n",
      "  -s          generate approximate skull image\r\n",
      "  -n          don't generate segmented brain image output\r\n",
      "  -f <f>      fractional intensity threshold (0->1); default=0.5; smaller values give larger brain outline estimates\r\n",
      "  -g <g>      vertical gradient in fractional intensity threshold (-1->1); default=0; positive values give larger brain outline at bottom, smaller at top\r\n",
      "  -r <r>      head radius (mm not voxels); initial surface sphere is set to half of this\r\n",
      "  -c <x y z>  centre-of-gravity (voxels not mm) of initial mesh surface.\r\n",
      "  -t          apply thresholding to segmented brain image and mask\r\n",
      "  -e          generates brain surface as mesh in .vtk format\r\n",
      "\r\n",
      "Variations on default bet2 functionality (mutually exclusive options):\r\n",
      "  (default)   just run bet2\r\n",
      "  -R          robust brain centre estimation (iterates BET several times)\r\n",
      "  -S          eye & optic nerve cleanup (can be useful in SIENA)\r\n",
      "  -B          bias field & neck cleanup (can be useful in SIENA)\r\n",
      "  -Z          improve BET if FOV is very small in Z (by temporarily padding end slices)\r\n",
      "  -F          apply to 4D FMRI data (uses -f 0.3 and dilates brain mask slightly)\r\n",
      "  -A          run bet2 and then betsurf to get additional skull and scalp surfaces (includes registrations)\r\n",
      "  -A2 <T2>    as with -A, when also feeding in non-brain-extracted T2 (includes registrations)\r\n",
      "\r\n",
      "Miscellaneous options:\r\n",
      "  -v          verbose (switch on diagnostic messages)\r\n",
      "  -h          display this help, then exits\r\n",
      "  -d          debug (don't delete temporary intermediate images)\r\n",
      "\r\n"
     ]
    }
   ],
   "source": [
    "!bet"
   ]
  },
  {
   "cell_type": "markdown",
   "metadata": {
    "deletable": true,
    "editable": true
   },
   "source": [
    "We see that BET can also return a binary brain mask as a result of the skull-strip, which can be useful for masking our GLM analyses (among other things). Let's run again including that option and see the result."
   ]
  },
  {
   "cell_type": "code",
   "execution_count": 8,
   "metadata": {
    "collapsed": false,
    "deletable": true,
    "editable": true
   },
   "outputs": [
    {
     "name": "stderr",
     "output_type": "stream",
     "text": [
      "/Library/anaconda/envs/py35/lib/python3.5/site-packages/ipykernel/__main__.py:14: VisibleDeprecationWarning: using a non-integer number instead of an integer will result in an error in the future\n"
     ]
    },
    {
     "data": {
      "image/png": "[encoded data removed]",
      "text/plain": [
       "<matplotlib.figure.Figure at 0x10fcfdeb8>"
      ]
     },
     "metadata": {},
     "output_type": "display_data"
    }
   ],
   "source": [
    "!bet data/T1 data/T1_bet -m\n",
    "plot_slice(\"data/T1_bet_mask.nii.gz\")"
   ]
  },
  {
   "cell_type": "markdown",
   "metadata": {
    "deletable": true,
    "editable": true
   },
   "source": [
    "Now let's look at the BET interface in Nipype. First, we have to import it."
   ]
  },
  {
   "cell_type": "code",
   "execution_count": 9,
   "metadata": {
    "collapsed": true,
    "deletable": true,
    "editable": true
   },
   "outputs": [],
   "source": [
    "from nipype.interfaces.fsl import BET"
   ]
  },
  {
   "cell_type": "markdown",
   "metadata": {
    "deletable": true,
    "editable": true
   },
   "source": [
    "Like all Python objects, some information can be found in what's called the docstring. In IPython, this is easy to display by postpending a ``?`` to the object's name. (This does the same thing as ``help object`` in MATLAB or ``?object`` in R). In the IPython notebook, that pops up a frame at the bottom of the screen, which we don't actually want right now. Let's get the docstring the longer way. It always lives at the ``__doc__`` attribute, so we can just print that. "
   ]
  },
  {
   "cell_type": "code",
   "execution_count": 10,
   "metadata": {
    "collapsed": false,
    "deletable": true,
    "editable": true
   },
   "outputs": [
    {
     "name": "stdout",
     "output_type": "stream",
     "text": [
      "Use FSL BET command for skull stripping.\n",
      "\n",
      "    For complete details, see the `BET Documentation.\n",
      "    <http://www.fmrib.ox.ac.uk/fsl/bet2/index.html>`_\n",
      "\n",
      "    Examples\n",
      "    --------\n",
      "    >>> from nipype.interfaces import fsl\n",
      "    >>> from nipype.testing import  example_data\n",
      "    >>> btr = fsl.BET()\n",
      "    >>> btr.inputs.in_file = example_data('structural.nii')\n",
      "    >>> btr.inputs.frac = 0.7\n",
      "    >>> res = btr.run() # doctest: +SKIP\n",
      "\n",
      "    \n"
     ]
    }
   ],
   "source": [
    "print(BET.__doc__)"
   ]
  },
  {
   "cell_type": "markdown",
   "metadata": {
    "deletable": true,
    "editable": true
   },
   "source": [
    "Nipype also has a more comprehensive automatically generated help system built into its interfaces. To see that, just call the ``help`` method on any interface object:"
   ]
  },
  {
   "cell_type": "code",
   "execution_count": 10,
   "metadata": {
    "collapsed": true,
    "deletable": true,
    "editable": true
   },
   "outputs": [
    {
     "name": "stdout",
     "output_type": "stream",
     "text": [
      "Wraps command **bet**\n",
      "\n",
      "Use FSL BET command for skull stripping.\n",
      "\n",
      "For complete details, see the `BET Documentation.\n",
      "<http://www.fmrib.ox.ac.uk/fsl/bet2/index.html>`_\n",
      "\n",
      "Examples\n",
      "--------\n",
      ">>> from nipype.interfaces import fsl\n",
      ">>> from nipype.testing import  example_data\n",
      ">>> btr = fsl.BET()\n",
      ">>> btr.inputs.in_file = example_data('structural.nii')\n",
      ">>> btr.inputs.frac = 0.7\n",
      ">>> res = btr.run() # doctest: +SKIP\n",
      "\n",
      "Inputs::\n",
      "\n",
      "\t[Mandatory]\n",
      "\tin_file: (an existing file name)\n",
      "\t\tinput file to skull strip\n",
      "\tterminal_output: ('stream' or 'allatonce' or 'file' or 'none')\n",
      "\t\tControl terminal output: `stream` - displays to terminal\n",
      "\t\timmediately, `allatonce` - waits till command is finished to display\n",
      "\t\toutput, `file` - writes output to file, `none` - output is ignored\n",
      "\n",
      "\t[Optional]\n",
      "\targs: (a string)\n",
      "\t\tAdditional parameters to the command\n",
      "\tcenter: (a list of at most 3 items which are an integer)\n",
      "\t\tcenter of gravity in voxels\n",
      "\tenviron: (a dictionary with keys which are a value of type 'str' and\n",
      "\t\t with values which are a value of type 'str', nipype default value:\n",
      "\t\t {})\n",
      "\t\tEnvironment variables\n",
      "\tfrac: (a float)\n",
      "\t\tfractional intensity threshold\n",
      "\tfunctional: (a boolean)\n",
      "\t\tapply to 4D fMRI data\n",
      "\t\tmutually_exclusive: functional, reduce_bias, robust, padding,\n",
      "\t\t remove_eyes, surfaces, t2_guided\n",
      "\tignore_exception: (a boolean, nipype default value: False)\n",
      "\t\tPrint an error message instead of throwing an exception in case the\n",
      "\t\tinterface fails to run\n",
      "\tin_file: (an existing file name)\n",
      "\t\tinput file to skull strip\n",
      "\tmask: (a boolean)\n",
      "\t\tcreate binary mask image\n",
      "\tmesh: (a boolean)\n",
      "\t\tgenerate a vtk mesh brain surface\n",
      "\tno_output: (a boolean)\n",
      "\t\tDon't generate segmented output\n",
      "\tout_file: (a file name)\n",
      "\t\tname of output skull stripped image\n",
      "\toutline: (a boolean)\n",
      "\t\tcreate surface outline image\n",
      "\toutput_type: ('NIFTI_PAIR' or 'NIFTI_PAIR_GZ' or 'NIFTI_GZ' or\n",
      "\t\t 'NIFTI')\n",
      "\t\tFSL output type\n",
      "\tpadding: (a boolean)\n",
      "\t\timprove BET if FOV is very small in Z (by temporarily padding end\n",
      "\t\tslices)\n",
      "\t\tmutually_exclusive: functional, reduce_bias, robust, padding,\n",
      "\t\t remove_eyes, surfaces, t2_guided\n",
      "\tradius: (an integer)\n",
      "\t\thead radius\n",
      "\treduce_bias: (a boolean)\n",
      "\t\tbias field and neck cleanup\n",
      "\t\tmutually_exclusive: functional, reduce_bias, robust, padding,\n",
      "\t\t remove_eyes, surfaces, t2_guided\n",
      "\tremove_eyes: (a boolean)\n",
      "\t\teye & optic nerve cleanup (can be useful in SIENA)\n",
      "\t\tmutually_exclusive: functional, reduce_bias, robust, padding,\n",
      "\t\t remove_eyes, surfaces, t2_guided\n",
      "\trobust: (a boolean)\n",
      "\t\trobust brain centre estimation (iterates BET several times)\n",
      "\t\tmutually_exclusive: functional, reduce_bias, robust, padding,\n",
      "\t\t remove_eyes, surfaces, t2_guided\n",
      "\tskull: (a boolean)\n",
      "\t\tcreate skull image\n",
      "\tsurfaces: (a boolean)\n",
      "\t\trun bet2 and then betsurf to get additional skull and scalp surfaces\n",
      "\t\t(includes registrations)\n",
      "\t\tmutually_exclusive: functional, reduce_bias, robust, padding,\n",
      "\t\t remove_eyes, surfaces, t2_guided\n",
      "\tt2_guided: (a file name)\n",
      "\t\tas with creating surfaces, when also feeding in non-brain-extracted\n",
      "\t\tT2 (includes registrations)\n",
      "\t\tmutually_exclusive: functional, reduce_bias, robust, padding,\n",
      "\t\t remove_eyes, surfaces, t2_guided\n",
      "\tterminal_output: ('stream' or 'allatonce' or 'file' or 'none')\n",
      "\t\tControl terminal output: `stream` - displays to terminal\n",
      "\t\timmediately, `allatonce` - waits till command is finished to display\n",
      "\t\toutput, `file` - writes output to file, `none` - output is ignored\n",
      "\tthreshold: (a boolean)\n",
      "\t\tapply thresholding to segmented brain image and mask\n",
      "\tvertical_gradient: (a float)\n",
      "\t\tvertical gradient in fractional intensity threshold (-1, 1)\n",
      "\n",
      "Outputs::\n",
      "\n",
      "\tinskull_mask_file: (a file name)\n",
      "\t\tpath/name of inskull mask (if generated)\n",
      "\tinskull_mesh_file: (a file name)\n",
      "\t\tpath/name of inskull mesh outline (if generated)\n",
      "\tmask_file: (a file name)\n",
      "\t\tpath/name of binary brain mask (if generated)\n",
      "\tmeshfile: (a file name)\n",
      "\t\tpath/name of vtk mesh file (if generated)\n",
      "\tout_file: (a file name)\n",
      "\t\tpath/name of skullstripped file (if generated)\n",
      "\toutline_file: (a file name)\n",
      "\t\tpath/name of outline file (if generated)\n",
      "\toutskin_mask_file: (a file name)\n",
      "\t\tpath/name of outskin mask (if generated)\n",
      "\toutskin_mesh_file: (a file name)\n",
      "\t\tpath/name of outskin mesh outline (if generated)\n",
      "\toutskull_mask_file: (a file name)\n",
      "\t\tpath/name of outskull mask (if generated)\n",
      "\toutskull_mesh_file: (a file name)\n",
      "\t\tpath/name of outskull mesh outline (if generated)\n",
      "\tskull_mask_file: (a file name)\n",
      "\t\tpath/name of skull mask (if generated)\n",
      "\n",
      "None\n"
     ]
    }
   ],
   "source": [
    "print(BET.help())"
   ]
  },
  {
   "cell_type": "markdown",
   "metadata": {
    "deletable": true,
    "editable": true
   },
   "source": [
    "You can see a few things here. First, Nipype knows about the various options in the BET help we saw above, and exposes them as ``inputs``. There are a few ways to set inputs, but the most obvious is to create an interface instance and set them via the ``inputs`` attribute."
   ]
  },
  {
   "cell_type": "code",
   "execution_count": 11,
   "metadata": {
    "collapsed": true,
    "deletable": true,
    "editable": true
   },
   "outputs": [],
   "source": [
    "skullstrip = BET()\n",
    "skullstrip.inputs.in_file = \"data/T1.nii.gz\"\n",
    "skullstrip.inputs.out_file = \"data/T1_bet_nipype.nii.gz\""
   ]
  },
  {
   "cell_type": "markdown",
   "metadata": {
    "deletable": true,
    "editable": true
   },
   "source": [
    "Another way to set inputs on an interface object is to use them as keyword arguments when you call the class constructor. Don't worry if you don't know what a \"class constructor\" is. Doing the following will give you the same result as the three lines above."
   ]
  },
  {
   "cell_type": "code",
   "execution_count": 12,
   "metadata": {
    "collapsed": true,
    "deletable": true,
    "editable": true
   },
   "outputs": [],
   "source": [
    "skullstrip = BET(in_file=\"data/T1.nii.gz\", out_file=\"data/T1_bet_nipype.nii.gz\")"
   ]
  },
  {
   "cell_type": "markdown",
   "metadata": {
    "deletable": true,
    "editable": true
   },
   "source": [
    "Interfaces know how to execute the processing you have specified. For command line programs like BET, they can generate the command-line string. To see what that looks like, just print the ``cmdline`` attribute:"
   ]
  },
  {
   "cell_type": "code",
   "execution_count": 13,
   "metadata": {
    "collapsed": false,
    "deletable": true,
    "editable": true
   },
   "outputs": [
    {
     "name": "stdout",
     "output_type": "stream",
     "text": [
      "bet data/T1.nii.gz data/T1_bet_nipype.nii.gz\n"
     ]
    }
   ],
   "source": [
    "print(skullstrip.cmdline)"
   ]
  },
  {
   "cell_type": "markdown",
   "metadata": {
    "deletable": true,
    "editable": true
   },
   "source": [
    "Notice how that gives the command line we used above. As you may have noticed, the various optional parameters to the command line program are named with single letter strings of dubious mnemonic value. Nipype tries to turn those into more useful names. For instance, to generate a brain mask, instead of using the ``-m`` switch, just set the ``mask`` input to ``True``."
   ]
  },
  {
   "cell_type": "code",
   "execution_count": 14,
   "metadata": {
    "collapsed": false,
    "deletable": true,
    "editable": true
   },
   "outputs": [
    {
     "name": "stdout",
     "output_type": "stream",
     "text": [
      "bet data/T1.nii.gz data/T1_bet_nipype.nii.gz -m\n"
     ]
    }
   ],
   "source": [
    "skullstrip.inputs.mask = True\n",
    "print(skullstrip.cmdline)"
   ]
  },
  {
   "cell_type": "markdown",
   "metadata": {
    "deletable": true,
    "editable": true
   },
   "source": [
    "So far we've just created an object that describes some element of processing. To actually execute it, you can call the ``run`` method on that object. For FSL, Freesurfer, and other programs, this will just make a system call with the command line we see above. For MATLAB-based programs like SPM, it will actually generate a ``.m`` file and run a MATLAB process to execute it. All of that is handled in the background, though: interfaces provide an abstract representation of analysis steps."
   ]
  },
  {
   "cell_type": "code",
   "execution_count": 15,
   "metadata": {
    "collapsed": false,
    "deletable": true,
    "editable": true
   },
   "outputs": [
    {
     "data": {
      "text/plain": [
       "<nipype.interfaces.base.InterfaceResult at 0x10b6efc50>"
      ]
     },
     "execution_count": 15,
     "metadata": {},
     "output_type": "execute_result"
    }
   ],
   "source": [
    "skullstrip.run()"
   ]
  },
  {
   "cell_type": "markdown",
   "metadata": {
    "deletable": true,
    "editable": true
   },
   "source": [
    "We can see that this produced a file much like the one above:"
   ]
  },
  {
   "cell_type": "code",
   "execution_count": 16,
   "metadata": {
    "collapsed": false,
    "deletable": true,
    "editable": true
   },
   "outputs": [
    {
     "data": {
      "image/png": "[encoded data removed]",
      "text/plain": [
       "<matplotlib.figure.Figure at 0x106c7f550>"
      ]
     },
     "metadata": {},
     "output_type": "display_data"
    }
   ],
   "source": [
    "plot_slice(\"data/T1_bet_nipype.nii.gz\")"
   ]
  },
  {
   "cell_type": "markdown",
   "metadata": {
    "deletable": true,
    "editable": true
   },
   "source": [
    "Some interfaces cannot run without certain inputs being set. For instance, you need to give BET a file to work on. If you try and run it without setting the input file, you'll get a Python exception before anything actually gets executed:"
   ]
  },
  {
   "cell_type": "code",
   "execution_count": 11,
   "metadata": {
    "collapsed": false,
    "deletable": true,
    "editable": true
   },
   "outputs": [
    {
     "ename": "ValueError",
     "evalue": "BET requires a value for input 'in_file'. For a list of required inputs, see BET.help()",
     "output_type": "error",
     "traceback": [
      "\u001b[0;31m---------------------------------------------------------------------------\u001b[0m",
      "\u001b[0;31mValueError\u001b[0m                                Traceback (most recent call last)",
      "\u001b[0;32m<ipython-input-11-a9ae52d93559>\u001b[0m in \u001b[0;36m<module>\u001b[0;34m()\u001b[0m\n\u001b[1;32m      1\u001b[0m \u001b[0mskullstrip2\u001b[0m \u001b[0;34m=\u001b[0m \u001b[0mBET\u001b[0m\u001b[0;34m(\u001b[0m\u001b[0;34m)\u001b[0m\u001b[0;34m\u001b[0m\u001b[0m\n\u001b[0;32m----> 2\u001b[0;31m \u001b[0mskullstrip2\u001b[0m\u001b[0;34m.\u001b[0m\u001b[0mrun\u001b[0m\u001b[0;34m(\u001b[0m\u001b[0;34m)\u001b[0m\u001b[0;34m\u001b[0m\u001b[0m\n\u001b[0m",
      "\u001b[0;32m/Library/anaconda/envs/py35/lib/python3.5/site-packages/nipype/interfaces/base.py\u001b[0m in \u001b[0;36mrun\u001b[0;34m(self, **inputs)\u001b[0m\n\u001b[1;32m   1026\u001b[0m         \"\"\"\n\u001b[1;32m   1027\u001b[0m         \u001b[0mself\u001b[0m\u001b[0;34m.\u001b[0m\u001b[0minputs\u001b[0m\u001b[0;34m.\u001b[0m\u001b[0mset\u001b[0m\u001b[0;34m(\u001b[0m\u001b[0;34m**\u001b[0m\u001b[0minputs\u001b[0m\u001b[0;34m)\u001b[0m\u001b[0;34m\u001b[0m\u001b[0m\n\u001b[0;32m-> 1028\u001b[0;31m         \u001b[0mself\u001b[0m\u001b[0;34m.\u001b[0m\u001b[0m_check_mandatory_inputs\u001b[0m\u001b[0;34m(\u001b[0m\u001b[0;34m)\u001b[0m\u001b[0;34m\u001b[0m\u001b[0m\n\u001b[0m\u001b[1;32m   1029\u001b[0m         \u001b[0mself\u001b[0m\u001b[0;34m.\u001b[0m\u001b[0m_check_version_requirements\u001b[0m\u001b[0;34m(\u001b[0m\u001b[0mself\u001b[0m\u001b[0;34m.\u001b[0m\u001b[0minputs\u001b[0m\u001b[0;34m)\u001b[0m\u001b[0;34m\u001b[0m\u001b[0m\n\u001b[1;32m   1030\u001b[0m         \u001b[0minterface\u001b[0m \u001b[0;34m=\u001b[0m \u001b[0mself\u001b[0m\u001b[0;34m.\u001b[0m\u001b[0m__class__\u001b[0m\u001b[0;34m\u001b[0m\u001b[0m\n",
      "\u001b[0;32m/Library/anaconda/envs/py35/lib/python3.5/site-packages/nipype/interfaces/base.py\u001b[0m in \u001b[0;36m_check_mandatory_inputs\u001b[0;34m(self)\u001b[0m\n\u001b[1;32m    938\u001b[0m                        \u001b[0;34m\"For a list of required inputs, see %s.help()\"\u001b[0m \u001b[0;34m%\u001b[0m\u001b[0;34m\u001b[0m\u001b[0m\n\u001b[1;32m    939\u001b[0m                        (self.__class__.__name__, name, self.__class__.__name__))\n\u001b[0;32m--> 940\u001b[0;31m                 \u001b[0;32mraise\u001b[0m \u001b[0mValueError\u001b[0m\u001b[0;34m(\u001b[0m\u001b[0mmsg\u001b[0m\u001b[0;34m)\u001b[0m\u001b[0;34m\u001b[0m\u001b[0m\n\u001b[0m\u001b[1;32m    941\u001b[0m             \u001b[0;32mif\u001b[0m \u001b[0misdefined\u001b[0m\u001b[0;34m(\u001b[0m\u001b[0mvalue\u001b[0m\u001b[0;34m)\u001b[0m\u001b[0;34m:\u001b[0m\u001b[0;34m\u001b[0m\u001b[0m\n\u001b[1;32m    942\u001b[0m                 \u001b[0mself\u001b[0m\u001b[0;34m.\u001b[0m\u001b[0m_check_requires\u001b[0m\u001b[0;34m(\u001b[0m\u001b[0mspec\u001b[0m\u001b[0;34m,\u001b[0m \u001b[0mname\u001b[0m\u001b[0;34m,\u001b[0m \u001b[0mvalue\u001b[0m\u001b[0;34m)\u001b[0m\u001b[0;34m\u001b[0m\u001b[0m\n",
      "\u001b[0;31mValueError\u001b[0m: BET requires a value for input 'in_file'. For a list of required inputs, see BET.help()"
     ]
    }
   ],
   "source": [
    "skullstrip2 = BET()\n",
    "skullstrip2.run()"
   ]
  },
  {
   "cell_type": "markdown",
   "metadata": {
    "deletable": true,
    "editable": true
   },
   "source": [
    "Nipype also knows some things about what sort of values should get passed to the inputs, and will raise (hopefully) informative exceptions when they are violated -- before anything gets processed. For example, BET just lets you say \"create a mask,\" it doesn't let you name it. You may forget this, and try to give it a name. In this case, Nipype will raise a ``TraitError`` telling you what you did wrong:"
   ]
  },
  {
   "cell_type": "code",
   "execution_count": 18,
   "metadata": {
    "collapsed": false,
    "deletable": true,
    "editable": true
   },
   "outputs": [
    {
     "ename": "TraitError",
     "evalue": "The 'mask' trait of a BETInputSpec instance must be a boolean, but a value of 'mask_file.nii' <type 'str'> was specified.",
     "output_type": "error",
     "traceback": [
      "\u001b[0;31m---------------------------------------------------------------------------\u001b[0m\n\u001b[0;31mTraitError\u001b[0m                                Traceback (most recent call last)",
      "\u001b[0;32m<ipython-input-18-44592757e5e0>\u001b[0m in \u001b[0;36m<module>\u001b[0;34m()\u001b[0m\n\u001b[0;32m----> 1\u001b[0;31m \u001b[0mskullstrip\u001b[0m\u001b[0;34m.\u001b[0m\u001b[0minputs\u001b[0m\u001b[0;34m.\u001b[0m\u001b[0mmask\u001b[0m \u001b[0;34m=\u001b[0m \u001b[0;34m\"mask_file.nii\"\u001b[0m\u001b[0;34m\u001b[0m\u001b[0m\n\u001b[0m",
      "\u001b[0;32m/Users/mwaskom/anaconda/lib/python2.7/site-packages/traits/trait_handlers.pyc\u001b[0m in \u001b[0;36merror\u001b[0;34m(self, object, name, value)\u001b[0m\n\u001b[1;32m    167\u001b[0m         \"\"\"\n\u001b[1;32m    168\u001b[0m         raise TraitError( object, name, self.full_info( object, name, value ),\n\u001b[0;32m--> 169\u001b[0;31m                           value )\n\u001b[0m\u001b[1;32m    170\u001b[0m \u001b[0;34m\u001b[0m\u001b[0m\n\u001b[1;32m    171\u001b[0m     \u001b[0;32mdef\u001b[0m \u001b[0marg_error\u001b[0m \u001b[0;34m(\u001b[0m \u001b[0mself\u001b[0m\u001b[0;34m,\u001b[0m \u001b[0mmethod\u001b[0m\u001b[0;34m,\u001b[0m \u001b[0marg_num\u001b[0m\u001b[0;34m,\u001b[0m \u001b[0mobject\u001b[0m\u001b[0;34m,\u001b[0m \u001b[0mname\u001b[0m\u001b[0;34m,\u001b[0m \u001b[0mvalue\u001b[0m \u001b[0;34m)\u001b[0m\u001b[0;34m:\u001b[0m\u001b[0;34m\u001b[0m\u001b[0m\n",
      "\u001b[0;31mTraitError\u001b[0m: The 'mask' trait of a BETInputSpec instance must be a boolean, but a value of 'mask_file.nii' <type 'str'> was specified."
     ]
    }
   ],
   "source": [
    "skullstrip.inputs.mask = \"mask_file.nii\""
   ]
  },
  {
   "cell_type": "markdown",
   "metadata": {
    "deletable": true,
    "editable": true
   },
   "source": [
    "Additionally, Nipype knows that, for inputs corresponding to files you are going to process, they should exist in your filesystem. If you pass a string that doesn't correspond to an existing file, it will error and let you know:"
   ]
  },
  {
   "cell_type": "code",
   "execution_count": 19,
   "metadata": {
    "collapsed": false,
    "deletable": true,
    "editable": true
   },
   "outputs": [
    {
     "ename": "TraitError",
     "evalue": "The 'in_file' trait of a BETInputSpec instance must be an existing file name, but a value of 'data/oops_a_typo.nii' <type 'str'> was specified.",
     "output_type": "error",
     "traceback": [
      "\u001b[0;31m---------------------------------------------------------------------------\u001b[0m\n\u001b[0;31mTraitError\u001b[0m                                Traceback (most recent call last)",
      "\u001b[0;32m<ipython-input-19-9d1e8fb8293a>\u001b[0m in \u001b[0;36m<module>\u001b[0;34m()\u001b[0m\n\u001b[0;32m----> 1\u001b[0;31m \u001b[0mskullstrip\u001b[0m\u001b[0;34m.\u001b[0m\u001b[0minputs\u001b[0m\u001b[0;34m.\u001b[0m\u001b[0min_file\u001b[0m \u001b[0;34m=\u001b[0m \u001b[0;34m\"data/oops_a_typo.nii\"\u001b[0m\u001b[0;34m\u001b[0m\u001b[0m\n\u001b[0m",
      "\u001b[0;32m/Users/mwaskom/anaconda/lib/python2.7/site-packages/nipype/interfaces/traits_extension.pyc\u001b[0m in \u001b[0;36mvalidate\u001b[0;34m(self, object, name, value)\u001b[0m\n\u001b[1;32m     78\u001b[0m             \u001b[0;32mreturn\u001b[0m \u001b[0mvalidated_value\u001b[0m\u001b[0;34m\u001b[0m\u001b[0m\n\u001b[1;32m     79\u001b[0m \u001b[0;34m\u001b[0m\u001b[0m\n\u001b[0;32m---> 80\u001b[0;31m         \u001b[0mself\u001b[0m\u001b[0;34m.\u001b[0m\u001b[0merror\u001b[0m\u001b[0;34m(\u001b[0m \u001b[0mobject\u001b[0m\u001b[0;34m,\u001b[0m \u001b[0mname\u001b[0m\u001b[0;34m,\u001b[0m \u001b[0mvalue\u001b[0m \u001b[0;34m)\u001b[0m\u001b[0;34m\u001b[0m\u001b[0m\n\u001b[0m\u001b[1;32m     81\u001b[0m \u001b[0;34m\u001b[0m\u001b[0m\n\u001b[1;32m     82\u001b[0m \u001b[0;34m\u001b[0m\u001b[0m\n",
      "\u001b[0;32m/Users/mwaskom/anaconda/lib/python2.7/site-packages/traits/trait_handlers.pyc\u001b[0m in \u001b[0;36merror\u001b[0;34m(self, object, name, value)\u001b[0m\n\u001b[1;32m    167\u001b[0m         \"\"\"\n\u001b[1;32m    168\u001b[0m         raise TraitError( object, name, self.full_info( object, name, value ),\n\u001b[0;32m--> 169\u001b[0;31m                           value )\n\u001b[0m\u001b[1;32m    170\u001b[0m \u001b[0;34m\u001b[0m\u001b[0m\n\u001b[1;32m    171\u001b[0m     \u001b[0;32mdef\u001b[0m \u001b[0marg_error\u001b[0m \u001b[0;34m(\u001b[0m \u001b[0mself\u001b[0m\u001b[0;34m,\u001b[0m \u001b[0mmethod\u001b[0m\u001b[0;34m,\u001b[0m \u001b[0marg_num\u001b[0m\u001b[0;34m,\u001b[0m \u001b[0mobject\u001b[0m\u001b[0;34m,\u001b[0m \u001b[0mname\u001b[0m\u001b[0;34m,\u001b[0m \u001b[0mvalue\u001b[0m \u001b[0;34m)\u001b[0m\u001b[0;34m:\u001b[0m\u001b[0;34m\u001b[0m\u001b[0m\n",
      "\u001b[0;31mTraitError\u001b[0m: The 'in_file' trait of a BETInputSpec instance must be an existing file name, but a value of 'data/oops_a_typo.nii' <type 'str'> was specified."
     ]
    }
   ],
   "source": [
    "skullstrip.inputs.in_file = \"data/oops_a_typo.nii\""
   ]
  },
  {
   "cell_type": "markdown",
   "metadata": {
    "deletable": true,
    "editable": true
   },
   "source": [
    "It turns out that for default output files, you don't even need to specify a name. Nipype will know what files are going to be created and will generate a name for you:"
   ]
  },
  {
   "cell_type": "code",
   "execution_count": 20,
   "metadata": {
    "collapsed": false,
    "deletable": true,
    "editable": true
   },
   "outputs": [
    {
     "name": "stdout",
     "output_type": "stream",
     "text": [
      "bet data/T1.nii.gz /Users/mwaskom/Dropbox/Projects/Nipype_Concepts/T1_brain.nii.gz\n"
     ]
    }
   ],
   "source": [
    "skullstrip = BET(in_file=\"data/T1.nii.gz\")\n",
    "print(skullstrip.cmdline)"
   ]
  },
  {
   "cell_type": "markdown",
   "metadata": {
    "deletable": true,
    "editable": true
   },
   "source": [
    "Note that it is going to write the output file to the local directory."
   ]
  },
  {
   "cell_type": "markdown",
   "metadata": {
    "deletable": true,
    "editable": true
   },
   "source": [
    "What if you just ran this interface and wanted to know what it called the file that was produced? As you might have noticed before, calling the ``run`` method returned an object called ``InterfaceResult.``  Let's inspect that object:"
   ]
  },
  {
   "cell_type": "code",
   "execution_count": 21,
   "metadata": {
    "collapsed": false,
    "deletable": true,
    "editable": true
   },
   "outputs": [
    {
     "name": "stdout",
     "output_type": "stream",
     "text": [
      "\n",
      "inskull_mask_file = <undefined>\n",
      "inskull_mesh_file = <undefined>\n",
      "mask_file = <undefined>\n",
      "meshfile = <undefined>\n",
      "out_file = /Users/mwaskom/Dropbox/Projects/Nipype_Concepts/T1_brain.nii.gz\n",
      "outline_file = <undefined>\n",
      "outskin_mask_file = <undefined>\n",
      "outskin_mesh_file = <undefined>\n",
      "outskull_mask_file = <undefined>\n",
      "outskull_mesh_file = <undefined>\n",
      "skull_mask_file = <undefined>\n",
      "\n"
     ]
    }
   ],
   "source": [
    "res = skullstrip.run()\n",
    "print(res.outputs)"
   ]
  },
  {
   "cell_type": "markdown",
   "metadata": {
    "deletable": true,
    "editable": true
   },
   "source": [
    "We see that four possible files can be generated by BET. Here we ran it in the most simple way possible, so it just generated an ``out_file``, which is the skull-stripped image. Let's see what happens when we generate a mask. By the way, you can also set inputs at runtime by including them as arguments to the ``run`` method:"
   ]
  },
  {
   "cell_type": "code",
   "execution_count": 22,
   "metadata": {
    "collapsed": false,
    "deletable": true,
    "editable": true
   },
   "outputs": [
    {
     "name": "stdout",
     "output_type": "stream",
     "text": [
      "\n",
      "inskull_mask_file = <undefined>\n",
      "inskull_mesh_file = <undefined>\n",
      "mask_file = /Users/mwaskom/Dropbox/Projects/Nipype_Concepts/T1_brain_mask.nii.gz\n",
      "meshfile = <undefined>\n",
      "out_file = /Users/mwaskom/Dropbox/Projects/Nipype_Concepts/T1_brain.nii.gz\n",
      "outline_file = <undefined>\n",
      "outskin_mask_file = <undefined>\n",
      "outskin_mesh_file = <undefined>\n",
      "outskull_mask_file = <undefined>\n",
      "outskull_mesh_file = <undefined>\n",
      "skull_mask_file = <undefined>\n",
      "\n"
     ]
    }
   ],
   "source": [
    "res2 = skullstrip.run(mask=True)\n",
    "print(res2.outputs)"
   ]
  },
  {
   "cell_type": "markdown",
   "metadata": {
    "deletable": true,
    "editable": true
   },
   "source": [
    "Nipype knows that if you ask for a mask, BET is going to generate it in a particular way and makes that information availbile to you."
   ]
  },
  {
   "cell_type": "markdown",
   "metadata": {
    "deletable": true,
    "editable": true
   },
   "source": [
    "A major motivating objective for Nipype is to streamline the integration of different analysis packages, so that you can use the algorithms you feel are best suited to your particular problem. Say that you want to use BET, as SPM does not offer a way to create an explicit mask from functional data, but that otherwise you want your processing to occur in SPM. Although possible to do this in a MATLAB script, it might not be all that clean, particularly if you want your skullstrip to happen in the middle of your workflow (for instance, after realignment). Nipype provides a unified representation of interfaces across analysis packages. To what we mean, let's look at SPM's Realign interface:"
   ]
  },
  {
   "cell_type": "code",
   "execution_count": 23,
   "metadata": {
    "collapsed": false,
    "deletable": true,
    "editable": true
   },
   "outputs": [
    {
     "name": "stdout",
     "output_type": "stream",
     "text": [
      "Use spm_realign for estimating within modality rigid body alignment\n",
      "\n",
      "http://www.fil.ion.ucl.ac.uk/spm/doc/manual.pdf#page=25\n",
      "\n",
      "Examples\n",
      "--------\n",
      "\n",
      ">>> import nipype.interfaces.spm as spm\n",
      ">>> realign = spm.Realign()\n",
      ">>> realign.inputs.in_files = 'functional.nii'\n",
      ">>> realign.inputs.register_to_mean = True\n",
      ">>> realign.run() # doctest: +SKIP\n",
      "\n",
      "Inputs::\n",
      "\n",
      "\t[Mandatory]\n",
      "\tin_files: (a list of items which are an existing file name or an\n",
      "\t\t existing file name)\n",
      "\t\tlist of filenames to realign\n",
      "\tregister_to_mean: (a boolean, nipype default value: True)\n",
      "\t\tIndicate whether realignment is done to the mean image\n",
      "\n",
      "\t[Optional]\n",
      "\tfwhm: (a floating point number >= 0.0)\n",
      "\t\tgaussian smoothing kernel width\n",
      "\tignore_exception: (a boolean, nipype default value: False)\n",
      "\t\tPrint an error message instead of throwing an exception in case the\n",
      "\t\tinterface fails to run\n",
      "\tin_files: (a list of items which are an existing file name or an\n",
      "\t\t existing file name)\n",
      "\t\tlist of filenames to realign\n",
      "\tinterp: (0 <= an integer <= 7)\n",
      "\t\tdegree of b-spline used for interpolation\n",
      "\tjobtype: ('estwrite' or 'estimate' or 'write', nipype default value:\n",
      "\t\t estwrite)\n",
      "\t\tone of: estimate, write, estwrite\n",
      "\tmatlab_cmd: (a string)\n",
      "\t\tmatlab command to use\n",
      "\tmfile: (a boolean, nipype default value: True)\n",
      "\t\tRun m-code using m-file\n",
      "\tout_prefix: (a string, nipype default value: r)\n",
      "\t\trealigned output prefix\n",
      "\tpaths: (a directory name)\n",
      "\t\tPaths to add to matlabpath\n",
      "\tquality: (0.0 <= a floating point number <= 1.0)\n",
      "\t\t0.1 = fast, 1.0 = precise\n",
      "\tregister_to_mean: (a boolean, nipype default value: True)\n",
      "\t\tIndicate whether realignment is done to the mean image\n",
      "\tseparation: (a floating point number >= 0.0)\n",
      "\t\tsampling separation in mm\n",
      "\tuse_mcr: (a boolean)\n",
      "\t\tRun m-code using SPM MCR\n",
      "\tuse_v8struct: (a boolean, nipype default value: True)\n",
      "\t\tGenerate SPM8 and higher compatible jobs\n",
      "\tweight_img: (an existing file name)\n",
      "\t\tfilename of weighting image\n",
      "\twrap: (a list of from 3 to 3 items which are an integer)\n",
      "\t\tCheck if interpolation should wrap in [x,y,z]\n",
      "\twrite_interp: (0 <= an integer <= 7)\n",
      "\t\tdegree of b-spline used for interpolation\n",
      "\twrite_mask: (a boolean)\n",
      "\t\tTrue/False mask output image\n",
      "\twrite_which: (a list of items which are a value of type 'int', nipype\n",
      "\t\t default value: [2, 1])\n",
      "\t\tdetermines which images to reslice\n",
      "\twrite_wrap: (a list of from 3 to 3 items which are an integer)\n",
      "\t\tCheck if interpolation should wrap in [x,y,z]\n",
      "\n",
      "Outputs::\n",
      "\n",
      "\tmean_image: (an existing file name)\n",
      "\t\tMean image file from the realignment\n",
      "\tmodified_in_files: (a list of items which are an existing file name\n",
      "\t\t or an existing file name)\n",
      "\t\tCopies of all files passed to in_files. Headers will have been\n",
      "\t\tmodified to align all images with the first, or optionally to first\n",
      "\t\tdo that, extract a mean image, and re-align to that mean image.\n",
      "\trealigned_files: (a list of items which are an existing file name or\n",
      "\t\t an existing file name)\n",
      "\t\tIf jobtype is write or estwrite, these will be the resliced files.\n",
      "\t\tOtherwise, they will be copies of in_files that have had their\n",
      "\t\theaders rewritten.\n",
      "\trealignment_parameters: (an existing file name)\n",
      "\t\tEstimated translation and rotation parameters\n",
      "\n",
      "None\n"
     ]
    }
   ],
   "source": [
    "from nipype.interfaces.spm import Realign\n",
    "print(Realign.help())"
   ]
  },
  {
   "cell_type": "markdown",
   "metadata": {
    "deletable": true,
    "editable": true
   },
   "source": [
    "Setting inputs and running this interface looks exactly the same as it did for BET, even though Realign will run through MATLAB while BET is a command-line program coded in C++:"
   ]
  },
  {
   "cell_type": "code",
   "execution_count": 24,
   "metadata": {
    "collapsed": true,
    "deletable": true,
    "editable": true
   },
   "outputs": [],
   "source": [
    "!gunzip -c data/timeseries.nii.gz > data/timeseries.nii  # SPM cannot read compressed files natively\n",
    "realign = Realign(in_files=\"data/timeseries.nii\")\n",
    "realign.inputs.register_to_mean = False\n",
    "realign.inputs.interp = 3\n",
    "# realign.run()  # Uncomment if you have SPM installed and want it to run"
   ]
  },
  {
   "cell_type": "markdown",
   "metadata": {
    "deletable": true,
    "editable": true
   },
   "source": [
    "What if you want to do some custom processing using the large (and growing) stack of scientific tools in Python itself? A special interface lets you wrap an arbitrary Python funtion. Here's a trivial example:"
   ]
  },
  {
   "cell_type": "code",
   "execution_count": 25,
   "metadata": {
    "collapsed": true,
    "deletable": true,
    "editable": true
   },
   "outputs": [],
   "source": [
    "def add_two(x):\n",
    "    return x + 2"
   ]
  },
  {
   "cell_type": "code",
   "execution_count": 26,
   "metadata": {
    "collapsed": true,
    "deletable": true,
    "editable": true
   },
   "outputs": [],
   "source": [
    "from nipype import Function\n",
    "addtwo = Function(input_names=[\"x\"],\n",
    "                  output_names=[\"val\"],\n",
    "                  function=add_two)"
   ]
  },
  {
   "cell_type": "code",
   "execution_count": 27,
   "metadata": {
    "collapsed": false,
    "deletable": true,
    "editable": true
   },
   "outputs": [
    {
     "name": "stdout",
     "output_type": "stream",
     "text": [
      "6\n"
     ]
    }
   ],
   "source": [
    "print(addtwo.run(x=4).outputs.val)"
   ]
  },
  {
   "cell_type": "markdown",
   "metadata": {
    "deletable": true,
    "editable": true
   },
   "source": [
    "The <a href=http://nipy.sourceforge.net/nipype/users/function_interface.html>online docs</a> have a special section on the function interface with more examples and a few important points to keep in mind."
   ]
  },
  {
   "cell_type": "code",
   "execution_count": 28,
   "metadata": {
    "collapsed": false,
    "deletable": true,
    "editable": true
   },
   "outputs": [],
   "source": [
    "!make clean"
   ]
  },
  {
   "cell_type": "code",
   "execution_count": null,
   "metadata": {
    "collapsed": false,
    "deletable": true,
    "editable": true
   },
   "outputs": [],
   "source": []
  }
 ],
 "metadata": {
  "kernelspec": {
   "display_name": "Python 3",
   "language": "python",
   "name": "python3"
  },
  "language_info": {
   "codemirror_mode": {
    "name": "ipython",
    "version": 3
   },
   "file_extension": ".py",
   "mimetype": "text/x-python",
   "name": "python",
   "nbconvert_exporter": "python",
   "pygments_lexer": "ipython3",
   "version": "3.5.2"
  }
 },
 "nbformat": 4,
 "nbformat_minor": 0
}
