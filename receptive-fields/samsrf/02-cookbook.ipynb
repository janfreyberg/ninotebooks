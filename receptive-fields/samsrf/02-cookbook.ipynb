{
 "cells": [
  {
   "cell_type": "markdown",
   "metadata": {
    "deletable": true,
    "editable": true
   },
   "source": [
    "# CHAPTER 1: ACQUIRING DATA\n",
    "\n",
    "In order to perform a pRF experiment you will need to acquire the following MRI scans:\n",
    "\n",
    "__Echo-planar imaging (EPI)__\n",
    "- One or more runs of a visual mapping stimulus\n",
    "    - In this example, we use 2 runs of geometric bars in the following configuration:\n",
    "        1. Bars traversing the visual field in four different directions\n",
    "        2. The same bars but sweeping in a different order\n",
    "\n",
    "- One run of sparse visual stimulation for estimating hemodynamic response functions (HRF)\n",
    "\n",
    "- B0 field maps for your EPI scans\n",
    "\n",
    "__Structural images__\n",
    "- A high-resolution T1-weighted anatomical image with the full 32-channel head-coil on.\n",
    "- (optional) if acquiring EPI scans with the top part of the head-coil off, a short T1-weighted anatomical image also with the top coil section off. Generally, when reusing an older anatomical scan for your participant, it is advisable to acquire a fast structural to aid coregistration with the old scan on which your FreeSurfer reconstruction is based."
   ]
  },
  {
   "cell_type": "markdown",
   "metadata": {
    "deletable": true,
    "editable": true
   },
   "source": [
    "# CHAPTER 2: DIRECTORY STRUCTURE\n",
    "\n",
    "For each of your subjects, you will need to create an organised directory structure to perform the analysis. See here:\n",
    "\n",
    "```\n",
    "freesurfer\n",
    "    |-subjects\n",
    "        |-subject name\n",
    "            |-label\n",
    "            |-mri\n",
    "            |-prf\n",
    "            |-spm\n",
    "            |-surf\n",
    "```\n",
    "\n",
    "The analysis for each subject is contained within a directory specific to that subject. Within the subject directory you will find:\n",
    "\n",
    "- _label_ contains the surface labels are saved, including the maps you draw\n",
    "- _mri_ contains the volume information and the original T1-weighted image reconstructed prf is the population receptive field analysis directory\n",
    "- _spm_ contains the files for the pre-processing steps will reside\n",
    "- _surf_ contains the surface reconstruction information from Freesurfer\n",
    "\n",
    "\n",
    "__If you are using the example data__ [(downloadable here)](https://t.co/AHshMtpkyH), then you will only have two folders to start with: the prf folder, and the surf folder. This is because the structural pre-processing (`recon-all`) has already been done. You will still need to create the spm folder.\n",
    "\n",
    "Note that most of your directory structure will be created when you run recon-all in Freesurfer (step 3), except the folders spm and prf. These will need to be created manually.\n",
    "\n",
    "If you wish to carry out more than one pRF experiment in a single subject (e.g. two conditions), then a sensible step would be to create two folders (`prf_1` and `prf_2`) instead of one, and treat them independently from chapter 4 onwards.\n",
    "\n",
    "Note that the subjects folder shown here is inside the Freesurfer installation. However, you can use any arbitrary folder as your subjects folder, e.g. when you have different projects and you don’t want the data to be mixed.\n",
    "\n",
    "The best way to do this is to add this to your `.bash_profile`, this way the subject dir is changed anytime you start a shell.\n",
    "\n",
    "You can do this by running the following line (after changing the path to where your subjects lie!):"
   ]
  },
  {
   "cell_type": "code",
   "execution_count": 103,
   "metadata": {
    "collapsed": false
   },
   "outputs": [],
   "source": [
    "!echo \"export SUBJECTS_DIR=\"$PWD\"/subjects\" >> ~/.bash_profile"
   ]
  },
  {
   "cell_type": "markdown",
   "metadata": {},
   "source": [
    "You can change the path to wherever you want to keep your data. However, you have to make sure that various folders FreeSurfer wants (from the original freesurfer/subjects folder) are present.\n",
    "\n",
    "For the purpose of this notebook, we will assume that you have the example data downloaded and that your folders are structured like this:\n",
    "\n",
    "```\n",
    "freesurfer\n",
    "    |- subjects\n",
    "        |- example\n",
    "            |- mri\n",
    "            |- prf\n",
    "            |- surf\n",
    "            |- spm\n",
    "```"
   ]
  },
  {
   "cell_type": "markdown",
   "metadata": {
    "deletable": true,
    "editable": true
   },
   "source": [
    "# CHAPTER 3: PREPROCESSING\n",
    "\n",
    "### 1. fMRI pre-processing\n",
    "\n",
    "Copy your data to SUBJECT/spm and perform your standard pre-processing for fMRI images in your software of choice.\n",
    "In the case of data acquired at the FIL, we recommend the following steps in SPM8:\n",
    "\n",
    "- DICOM import\\*\n",
    "- Bias correction (only when using 32-channel head coil)\n",
    "- Remove dummies\n",
    "- Optional: Create B0 field maps\n",
    "- Realign & unwarp (with or without B0 field maps)\n",
    "- Optional: Slice-timing correction (Karl will tell you it’s useless)\n",
    "- Co-registration\n",
    "- Optional: Smoothing (pRF estimates will be poorer)\n",
    "- 4D merge\\*\n",
    "\n",
    "An expanded explanation of these steps is provided in Appendix A.\n",
    "\n",
    "From your pre-processing, you should end up with a single 4D file for each stimulation run in NiFTI format. In this example, we have 3 files: 1st run of fMRI (bars_1), 2nd run of fMRI (bars_2) and the HRF scan.\n",
    "\n",
    "You also need to convert the T1-weighted structural from .hdr/.img to .nii.\n",
    "\n",
    "---\n",
    "\\* Note that these conversion steps are unnecessary, if in your centre you can output .nii format directly when exporting the data from the scanner (e.g. at BUCNI).\n",
    "\n",
    "### 2. Run `recon-all` (structural preprocessing)\n",
    "\n",
    "Locate the T1-weighted file and run the automatic reconstruction:\n",
    "\n",
    "    recon-all –i /path/to/T1.nii -s SUBJECT -all\n",
    "\n",
    "Note SUBJECT is going to be the subject name in the freesurfer/subjects directory.\n",
    "\n",
    "Additionally you can use the `-label_v1` option in this command to derive an anatomical prediction of V1 (based on Hinds et al., 2008, NeuroImage). This does not work on all versions of FreeSurfer (there is a bug in some versions newer than 5.0.0).\n",
    "\n",
    "### 3. Inspect surface\n",
    "\n",
    "Check that the reconstruction worked in each hemisphere with tksurfer. You can do this now:"
   ]
  },
  {
   "cell_type": "code",
   "execution_count": null,
   "metadata": {
    "collapsed": false,
    "deletable": true,
    "editable": true
   },
   "outputs": [],
   "source": [
    "%%capture\n",
    "!tksurfer example_2 lh inflated"
   ]
  },
  {
   "cell_type": "code",
   "execution_count": null,
   "metadata": {
    "collapsed": false,
    "deletable": true,
    "editable": true
   },
   "outputs": [],
   "source": [
    "%%capture\n",
    "!tksurfer bert rh inflated"
   ]
  },
  {
   "cell_type": "markdown",
   "metadata": {
    "deletable": true,
    "editable": true
   },
   "source": [
    "### 4. Create occipital labels\n",
    "\n",
    "There are two ways to create the occipital ROI:\n",
    "\n",
    "1. Create it automatically in MatLab using MakeOccRoi command (in SamSrf/Utils)\n",
    "\n",
    "2. Create it manually in tksurfer. Open the surface file as in step 3 and draw a wide region encompassing the occipital lobe.\n",
    "\n",
    "Save label with meaningful names, e.g. `lh_occ.label` and `rh_occ.label`. Save these files into the subject's prf directory.\n",
    "\n",
    "__If you are using the example data__, then this has already been done for you, but if you want to try the function, run:"
   ]
  },
  {
   "cell_type": "code",
   "execution_count": null,
   "metadata": {
    "collapsed": false
   },
   "outputs": [],
   "source": [
    "subject_dir = fullfile('~', 'Documents', 'prf-data', 'freesurfer', 'subjects');\n",
    "MakeOccRoi('inflated', fullfile(subject_dir, 'bert', 'surf'))"
   ]
  },
  {
   "cell_type": "markdown",
   "metadata": {},
   "source": [
    "If you want to check that a label has been created, you can run the following line:"
   ]
  },
  {
   "cell_type": "code",
   "execution_count": 41,
   "metadata": {
    "collapsed": true
   },
   "outputs": [
    {
     "name": "stdout",
     "output_type": "stream",
     "text": [
      "subject is starling44_2\n",
      "hemi    is rh\n",
      "surface is inflated\n",
      "surfer: current subjects dir: /Users/jan/Documents/prf-data/freesurfer/subjects\n",
      "surfer: not in \"scripts\" dir ==> using cwd for session root\n",
      "surfer: session root data dir ($session) set to:\n",
      "surfer:     /Users/jan/Dropbox/Documents/side-projects/ninotebooks/receptive-fields/samsrf\n",
      "checking for nofix files in 'inflated'\n",
      "Reading image info (/Users/jan/Documents/prf-data/freesurfer/subjects/starling44_2)\n",
      "Reading /Users/jan/Documents/prf-data/freesurfer/subjects/starling44_2/mri/orig.mgz\n",
      "surfer: Reading header info from /Users/jan/Documents/prf-data/freesurfer/subjects/starling44_2/mri/orig.mgz\n",
      "surfer: vertices=161869, faces=323734\n",
      "could not read annot file /Users/jan/Documents/prf-data/freesurfer/subjects/starling44_2/surf/../label/rh.rh_occ.label.annot\n",
      "No such file or directory\n",
      "\n",
      "ERROR: could not load rh_occ.label\n",
      "\n",
      "surfer: single buffered window\n",
      "surfer: tkoInitWindow(starling44_2)\n",
      "setting percentile thresholds (-1.00, 0.00, 0.00)\n",
      "surfer: using interface /Applications/freesurfer/tktools/tksurfer.tcl\n",
      "Reading /Applications/freesurfer/tktools/tkm_common.tcl\n",
      "Reading /Applications/freesurfer/tktools/tkm_wrappers.tcl\n",
      "Reading /Applications/freesurfer/lib/tcl/fsgdfPlot.tcl\n",
      "Reading /Applications/freesurfer/tktools/tkUtils.tcl\n",
      "Successfully parsed tksurfer.tcl\n",
      "reading white matter vertex locations...\n",
      "% XIO:  fatal IO error 35 (Resource temporarily unavailable) on X server \"/private/tmp/com.apple.launchd.kviAvnUPdU/org.macosforge.xquartz:0\"\n",
      "      after 6290 requests (6290 known processed) with 1 events remaining.\n"
     ]
    }
   ],
   "source": [
    "!tksurfer -annot rh_occ.label starling44_2 rh inflated"
   ]
  },
  {
   "cell_type": "markdown",
   "metadata": {
    "deletable": true,
    "editable": true
   },
   "source": [
    "### 5. Set up default parameters\n",
    "\n",
    "SamSrf usually starts with a set of default parameters. These are most likely not right for your needs. You can define your own default parameters. You will need to create four char variables in MATLAB containing the default values you want. They must be saved as a file called SamSrf_defaults.mat somewhere on your MATLAB path, for example inside the SamSrf folder. Let's do so now. First, specify the path to your installation of SamSrf:"
   ]
  },
  {
   "cell_type": "code",
   "execution_count": 52,
   "metadata": {
    "collapsed": true,
    "deletable": true,
    "editable": true
   },
   "outputs": [],
   "source": [
    "samsrfpath = '/path/to/Samsrf/installation';\n",
    "% (in my case, it's ~/Documents/MATLAB/toolbox/SamSrf_5.7)"
   ]
  },
  {
   "cell_type": "markdown",
   "metadata": {
    "deletable": true,
    "editable": true
   },
   "source": [
    "Then specify the default variables that are required.\n",
    "\n",
    "First, the cortical sample steps for surface projection (see step 10):"
   ]
  },
  {
   "cell_type": "code",
   "execution_count": 43,
   "metadata": {
    "collapsed": true,
    "deletable": true,
    "editable": true
   },
   "outputs": [],
   "source": [
    "def_ctxsteps = '0.5';"
   ]
  },
  {
   "cell_type": "markdown",
   "metadata": {
    "deletable": true,
    "editable": true
   },
   "source": [
    "Then the maximal eccentricity of your stimulus (in degrees of visual angle):"
   ]
  },
  {
   "cell_type": "code",
   "execution_count": 44,
   "metadata": {
    "collapsed": true,
    "deletable": true,
    "editable": true
   },
   "outputs": [],
   "source": [
    "def_eccen = '9';"
   ]
  },
  {
   "cell_type": "markdown",
   "metadata": {
    "deletable": true,
    "editable": true
   },
   "source": [
    "The subfolder where your surface meshes reside (see step 10):"
   ]
  },
  {
   "cell_type": "code",
   "execution_count": 45,
   "metadata": {
    "collapsed": true,
    "deletable": true,
    "editable": true
   },
   "outputs": [],
   "source": [
    "def_surf = '../surf';"
   ]
  },
  {
   "cell_type": "markdown",
   "metadata": {
    "deletable": true,
    "editable": true
   },
   "source": [
    "The TR of your functional data acquisition in seconds:"
   ]
  },
  {
   "cell_type": "code",
   "execution_count": 46,
   "metadata": {
    "collapsed": true,
    "deletable": true,
    "editable": true
   },
   "outputs": [],
   "source": [
    "def_tr = '2.55';"
   ]
  },
  {
   "cell_type": "markdown",
   "metadata": {
    "deletable": true,
    "editable": true
   },
   "source": [
    "Whether to turn on/off the graphic waitbars (‘on’ or ‘off’):"
   ]
  },
  {
   "cell_type": "code",
   "execution_count": 47,
   "metadata": {
    "collapsed": true,
    "deletable": true,
    "editable": true
   },
   "outputs": [],
   "source": [
    "def_wb = 'on';"
   ]
  },
  {
   "cell_type": "markdown",
   "metadata": {
    "deletable": true,
    "editable": true
   },
   "source": [
    "And an optional parameter matrix to defined camera starting position rows defined azimuth, elevation & zoom of camera columns are for left & right hemisphere camera (we are not going to define this right now but feel free!"
   ]
  },
  {
   "cell_type": "code",
   "execution_count": 48,
   "metadata": {
    "collapsed": true,
    "deletable": true,
    "editable": true
   },
   "outputs": [],
   "source": [
    "% def_views = 3 x 2 matrix"
   ]
  },
  {
   "cell_type": "markdown",
   "metadata": {
    "deletable": true,
    "editable": true
   },
   "source": [
    "Then, we save all of these variables in a `.mat` file on your Samsrf path:"
   ]
  },
  {
   "cell_type": "code",
   "execution_count": 53,
   "metadata": {
    "collapsed": false,
    "deletable": true,
    "editable": true
   },
   "outputs": [],
   "source": [
    "save(fullfile(samsrfpath, 'SamSrf_defaults.mat'), 'def_*');"
   ]
  },
  {
   "cell_type": "markdown",
   "metadata": {
    "deletable": true,
    "editable": true
   },
   "source": [
    "# CHAPTER 4: SAMSRF PROCESSING\n",
    "\n",
    "_Note from ninotebook team: The SamSrf steps can be done either through the GUI, or through the command line. Because the notebook format lends itself to the command line and because we think command line control is more useful because you can then run future analyses programmatically._\n",
    "\n",
    "The first step we will take is provide the path to the subject folder we are working with. If you placed the subject's folder into this directory, then use the current directory:"
   ]
  },
  {
   "cell_type": "code",
   "execution_count": 92,
   "metadata": {
    "collapsed": false,
    "deletable": true,
    "editable": true
   },
   "outputs": [],
   "source": [
    "subjects_dir = fullfile('/Users', 'jan', 'Documents', 'prf-data', 'freesurfer', 'subjects');\n",
    "subject = 'starling44_2';"
   ]
  },
  {
   "cell_type": "markdown",
   "metadata": {
    "deletable": true,
    "editable": true
   },
   "source": [
    "### 1. Check structural registration\n",
    "\n",
    "With this function, we check that freesurfer provided us with a good registration of our brain data. To do so, we provide the `label` directory, which contains the necessary labels, to SamSrf's check registration function:"
   ]
  },
  {
   "cell_type": "code",
   "execution_count": 93,
   "metadata": {
    "collapsed": false,
    "deletable": true,
    "editable": true
   },
   "outputs": [
    {
     "name": "stderr",
     "output_type": "stream",
     "text": [
      "\u001b[0;31mFile /Users/jan/Documents/MATLAB/toolbox/SamSrf_v5.7/samsrf_checkreg.m, line 52, in samsrf_checkreg\n",
      "NII file in mri folder is ambiguous!\n",
      "\u001b[0m"
     ]
    }
   ],
   "source": [
    "samsrf_checkreg(fullfile(subjects_dir, subject, 'label'));"
   ]
  },
  {
   "cell_type": "markdown",
   "metadata": {
    "deletable": true,
    "editable": true
   },
   "source": [
    "After a moment of loading the files a SPM check registration window will open A red line indicating the grey-white matter boundary will appear.\n",
    "\n",
    "Look at the match-up between the anatomy and the red overlay. It should define a boundary between the white and grey matter that follows the sulcal pattern of the cortex, like in this example:\n",
    "\n",
    "<img src=\"img/registration-example.png\" width=\"500\">\n",
    "\n",
    "There are various reasons why the link between FreeSurfer’s coordinate system and SPM may fail. For example, if you fiddled with the affine transformation of the structural scan you used for FreeSurfer reconstruction (or if you resliced it or used it as source image in coregistration), then the alignment will be broken. This tool is also helpful for inspecting the surface reconstruction has worked properly (instead of step 4 above). If the red surface doesn’t cover the whole cortex but parts of the cortex are outside of it, then you will have to fix the reconstruction. This may be due to too sharply defined structural images. Subtly smoothing (~1mm kernel) the structural in SPM can help in this situation.\n",
    "\n",
    "#### What to do if the registration is bad\n",
    "\n",
    "If the registration is bad you can follow these quick extra steps to bring them in line:\n",
    "\n",
    "In the terminal, go to the freesurfer/subjects/SUBJECT/mri (or wherever the nifti of your T1 is being kept) and run:\n",
    "\n",
    "    tkregister2 --mov NAME_OF_T1.nii --s SUBJECT --regheader --noedit --reg register.dat\n",
    "\n",
    "This will produce an output with several affine transformation matrices (4x4 matrix). You will need to copy and paste two of these into a text file called `Coregistration.txt` inside your `freesurfer/subjects/SUBJECT/surf` folder. The two matrices are the one entitled `Tmov` (2nd from top) and `RegMat` (5th). _(Note that copy&paste is annoying in the Linux terminal in that it only works via right-clicking and using the context menu – keyboard combos don’t work)_. You will need to place the `RegMat` matrix underneath the `Tmov` matrix so that in the file there will be a matrix with 8 rows and 4 columns. Finally, you must remove the semicolons at the end of the lines.\n",
    "\n",
    "Now, if you run the check registration tool again it should automatically locate this coregistration info and use this to correctly align FreeSurfer space to native brain space.\n",
    "\n",
    "### 2. Convert surface files\n",
    "\n",
    "• Open a terminal window\n",
    "\n",
    "• Change directory (cd) into the ‘Utils’ folder of the SamSrf toolbox\n",
    "\n",
    "• Run the following command\n",
    "\n",
    "fs_bin2asc.sh SUBJECT\n",
    "\n",
    "This creates ASCII files of the grey-white boundary surfaces with the associated area and curvature values for each vertex, for each hemisphere in the subject inputted. The script also accepts multiple inputs to perform the ASCII conversion for more than one subject in a single command, e.g.\n",
    "\n",
    "fs_bin2asc.sh SUBJECT1 SUBJECT2 SUBJECT3\n",
    "\n",
    "Alternatively, this can also be done manually by following these steps:\n",
    "\n",
    "• Open terminal\n",
    "\n",
    "• Navigate to freesurfer/subjects/SUBJECT/surf\n",
    "\n",
    "• Run the following commands:\n",
    "\n",
    "    mris_convert –c lh.curv lh.white lh.curv.asc\n",
    "    mris_convert –c rh.curv rh.white rh.curv.asc\n",
    "    mris_convert –c lh.area lh.white lh.area.asc\n",
    "    mris_convert –c rh.area rh.white rh.area.asc\n",
    "    mris_convert –c lh.thickness lh.white lh.thickness.asc\n",
    "    mris_convert –c rh.thickness rh.white rh.thickness.asc"
   ]
  },
  {
   "cell_type": "markdown",
   "metadata": {},
   "source": [
    "### 3. Project your functional volume data onto the surface\n",
    "\n",
    "In this step, we get the functional data ready for fitting the pRF model. This involves warping the data onto the surface so that we have surface functional data to which we can then fit the model.\n",
    "\n",
    "We use the SamSrf function `samsrf_vol2srf()` for this.\n",
    "\n",
    "We are going to do this for both hemispheres, so let's make list of them:"
   ]
  },
  {
   "cell_type": "code",
   "execution_count": 73,
   "metadata": {
    "collapsed": true
   },
   "outputs": [],
   "source": [
    "hemispheres = {'lh', 'rh'};"
   ]
  },
  {
   "cell_type": "markdown",
   "metadata": {},
   "source": [
    "Let's also make a list of the functional images we have:"
   ]
  },
  {
   "cell_type": "code",
   "execution_count": 94,
   "metadata": {
    "collapsed": false
   },
   "outputs": [
    {
     "name": "stdout",
     "output_type": "stream",
     "text": [
      "'pRF_21_ts2anat.nii'\n",
      "    'pRF_23_ts2anat.nii'\n",
      "    'pRF_25_ts2anat.nii'\n",
      "    'pRF_27_ts2anat.nii'\n"
     ]
    }
   ],
   "source": [
    "functional_images = dir(fullfile(subjects_dir, subject, 'afni', 'MC', '*ts2anat.nii'));\n",
    "functional_images = {functional_images(:).name}';\n",
    "disp(functional_images);"
   ]
  },
  {
   "cell_type": "markdown",
   "metadata": {},
   "source": [
    "Now we loop over each of the functional images, and the hemispheres, to project each one individually."
   ]
  },
  {
   "cell_type": "code",
   "execution_count": 96,
   "metadata": {
    "collapsed": false
   },
   "outputs": [
    {
     "name": "stdout",
     "output_type": "stream",
     "text": [
      "Using mean of steps through cortex.\n",
      "Saved lh_pRF_21_ts2anat.mat.\n",
      " \n",
      "Using mean of steps through cortex.\n",
      "Saved rh_pRF_21_ts2anat.mat.\n",
      " \n",
      "Using mean of steps through cortex.\n",
      "Saved lh_pRF_23_ts2anat.mat.\n",
      " \n",
      "Using mean of steps through cortex.\n",
      "Saved rh_pRF_23_ts2anat.mat.\n",
      " \n",
      "Using mean of steps through cortex.\n",
      "Saved lh_pRF_25_ts2anat.mat.\n",
      " \n",
      "Using mean of steps through cortex.\n",
      "Saved rh_pRF_25_ts2anat.mat.\n",
      " \n",
      "Using mean of steps through cortex.\n",
      "Saved lh_pRF_27_ts2anat.mat.\n",
      " \n",
      "Using mean of steps through cortex.\n",
      "Saved rh_pRF_27_ts2anat.mat.\n"
     ]
    }
   ],
   "source": [
    "for i = 1:numel(functional_images)\n",
    "    for j = 1:numel(hemispheres)\n",
    "        \n",
    "        \n",
    "        functional_image = fullfile(subjects_dir, subject, 'afni', 'MC', functional_images{i});\n",
    "        hemisphere = hemispheres{j};\n",
    "        structural_image = fullfile(subjects_dir, subject, 'mri', 'orig.nii');\n",
    "        hemisphere_surface = fullfile(subjects_dir, subject, 'surf', hemisphere);\n",
    "        \n",
    "        ctxsteps = 0.5;\n",
    "        rule = '~';\n",
    "        nrmls = 1;\n",
    "        \n",
    "        samsrf_vol2srf(functional_image, structural_image,...\n",
    "                        hemisphere_surface, ctxsteps, rule, nrmls);\n",
    "    end\n",
    "end"
   ]
  },
  {
   "cell_type": "markdown",
   "metadata": {},
   "source": [
    "This will take a few minutes (or longer if you have many cortical sampling steps). Once it's done, SamSrf will output all the files you gave it in .mat format with the prefix 'lh_' or 'rh_' appended to indicate which hemisphere it belongs to. Repeat for the other hemisphere.\n",
    "\n",
    "_Remember to do this for both the functional runs from pRF mapping as well as the HRF measurement run (if you have one). The functions used to extract the HRF also work in surface space so they need this data._"
   ]
  },
  {
   "cell_type": "markdown",
   "metadata": {},
   "source": [
    "### 9. Create apertures\n",
    "\n",
    "Running the following function will open a file selector window. In that window, \n",
    "\n",
    "Generate\n",
    "Choose the results file generated when you ran the stimulation in the scanner"
   ]
  },
  {
   "cell_type": "code",
   "execution_count": 97,
   "metadata": {
    "collapsed": true
   },
   "outputs": [],
   "source": [
    "Create_Apertures;"
   ]
  }
 ],
 "metadata": {
  "kernelspec": {
   "display_name": "Matlab",
   "language": "matlab",
   "name": "matlab"
  },
  "language_info": {
   "codemirror_mode": "octave",
   "file_extension": ".m",
   "help_links": [
    {
     "text": "MetaKernel Magics",
     "url": "https://github.com/calysto/metakernel/blob/master/metakernel/magics/README.md"
    }
   ],
   "mimetype": "text/x-octave",
   "name": "matlab",
   "version": "0.11.0"
  }
 },
 "nbformat": 4,
 "nbformat_minor": 2
}
